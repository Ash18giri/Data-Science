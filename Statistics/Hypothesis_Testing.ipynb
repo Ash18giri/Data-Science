{
  "nbformat": 4,
  "nbformat_minor": 0,
  "metadata": {
    "colab": {
      "provenance": []
    },
    "kernelspec": {
      "name": "python3",
      "display_name": "Python 3"
    },
    "language_info": {
      "name": "python"
    }
  },
  "cells": [
    {
      "cell_type": "code",
      "execution_count": null,
      "metadata": {
        "id": "Fw3s8DicGC0j"
      },
      "outputs": [],
      "source": [
        "import pandas as pd\n",
        "import numpy as np\n",
        "import matplotlib.pyplot as plt\n",
        "import seaborn as sns\n",
        "import warnings\n",
        "warnings.filterwarnings('ignore')"
      ]
    },
    {
      "cell_type": "markdown",
      "source": [
        "\n",
        "*   To investigate the restaurant owners' claim about the increase in weekly operating costs using hypothesis testing.\n",
        "*   Data Provided:\n",
        "•\tThe theoretical weekly operating cost model: W = $1,000 + $5X\n",
        "•\tSample of 25 restaurants with a mean weekly cost of Rs. 3,050\n",
        "•\tNumber of units produced in a week (X) follows a normal distribution with a mean (μ) of 600 units and a standard deviation (σ) of 25 units\n",
        "\n",
        "\n",
        "\n"
      ],
      "metadata": {
        "id": "IQVDwX7-HVJf"
      }
    },
    {
      "cell_type": "markdown",
      "source": [
        "\n",
        "Hypotheses statement\n",
        "1. Null Hypothesis: Observed weekly operated cost  is less than or equal to sample mean weekly cost(No action)\n",
        "2. Alternative Hypothesis: Observed weekly operated cost is greater than sample mean weekly cost(Action)\n",
        "\n",
        "*   H0: mu <= 3050\n",
        "*   H1: mu > 3050\n",
        "\n",
        "\n",
        "\n",
        "\n",
        "\n",
        "\n"
      ],
      "metadata": {
        "id": "49185vUkH2NS"
      }
    },
    {
      "cell_type": "markdown",
      "source": [
        "•\tˉxˉ = sample mean weekly cost (Rs. 3,050)\n",
        "•\tμ = theoretical mean weekly cost according to the cost model (W = $1,000 + $5X for X = 600 units)= 4000\n",
        "•\tσ = 5*25 units= 125\n",
        "•\tn = sample size (25 restaurants)\n"
      ],
      "metadata": {
        "id": "utwLJ7HsIwwn"
      }
    },
    {
      "cell_type": "code",
      "source": [
        "\n",
        "from scipy import stats"
      ],
      "metadata": {
        "id": "8FYrfKqXG-4S"
      },
      "execution_count": null,
      "outputs": []
    },
    {
      "cell_type": "code",
      "source": [
        "a=0.05\n",
        "n=25\n",
        "mu=4000\n",
        "xbar=3050\n",
        "sigma=125"
      ],
      "metadata": {
        "id": "bL42UeadJSRT"
      },
      "execution_count": null,
      "outputs": []
    },
    {
      "cell_type": "code",
      "source": [
        "z=(xbar-mu)/(sigma/np.sqrt(n))\n",
        "print(z)"
      ],
      "metadata": {
        "colab": {
          "base_uri": "https://localhost:8080/"
        },
        "id": "PVMA38e_JiEJ",
        "outputId": "2c4f11e0-6ced-4e2d-8422-85d939776eed"
      },
      "execution_count": null,
      "outputs": [
        {
          "output_type": "stream",
          "name": "stdout",
          "text": [
            "-38.0\n"
          ]
        }
      ]
    },
    {
      "cell_type": "code",
      "source": [
        "p=stats.norm.cdf(z)\n",
        "print(p)"
      ],
      "metadata": {
        "colab": {
          "base_uri": "https://localhost:8080/"
        },
        "id": "emsr-IIjKDuS",
        "outputId": "52b19873-5720-4e65-f2ed-2e9fc0106115"
      },
      "execution_count": null,
      "outputs": [
        {
          "output_type": "stream",
          "name": "stdout",
          "text": [
            "0.0\n"
          ]
        }
      ]
    },
    {
      "cell_type": "code",
      "source": [
        "α = 0.05\n",
        "if p>α:\n",
        "    print('Accept Null Hypothesis')\n",
        "else:\n",
        "    print('Reject Null Hypothesis')"
      ],
      "metadata": {
        "colab": {
          "base_uri": "https://localhost:8080/"
        },
        "id": "Lg47qgt-O5mM",
        "outputId": "df41fc5a-2dad-4ac6-84aa-214f909ee243"
      },
      "execution_count": null,
      "outputs": [
        {
          "output_type": "stream",
          "name": "stdout",
          "text": [
            "Reject Null Hypothesis\n"
          ]
        }
      ]
    },
    {
      "cell_type": "markdown",
      "source": [
        "Observed weekly operated cost is greater than the sample mean weekly cost. Therefore action is needed##"
      ],
      "metadata": {
        "id": "cCKtUJT8PTcu"
      }
    }
  ]
}
