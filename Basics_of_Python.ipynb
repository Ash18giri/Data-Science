{
  "nbformat": 4,
  "nbformat_minor": 0,
  "metadata": {
    "colab": {
      "provenance": []
    },
    "kernelspec": {
      "name": "python3",
      "display_name": "Python 3"
    },
    "language_info": {
      "name": "python"
    }
  },
  "cells": [
    {
      "cell_type": "code",
      "execution_count": 1,
      "metadata": {
        "colab": {
          "base_uri": "https://localhost:8080/"
        },
        "id": "m2pw7D-iTqLK",
        "outputId": "58a60bf4-7ffe-4260-e67b-c7a22d433f84"
      },
      "outputs": [
        {
          "name": "stdout",
          "output_type": "stream",
          "text": [
            "Please enter any number: 5\n",
            "5\n",
            "5 is a prime number\n",
            "Enter 'Y' to continue or 'N' to quit\n",
            "N\n"
          ]
        }
      ],
      "source": [
        "#Exercise 1: Prime Numbers\n",
        "\n",
        "while True:\n",
        " num=int(input(\"Please enter any number: \"))\n",
        " print(num)\n",
        " if num==1:\n",
        "   print(num,\"is not a prime number\")\n",
        " elif num>1:\n",
        "  for n in range(2,num):\n",
        "   if (num%n) == 0:\n",
        "      print(num,\"is not a prime number\")\n",
        "      break\n",
        "  else:\n",
        "      print(num,\"is a prime number\")\n",
        " else:\n",
        "   print(num,\"is not a prime number\")\n",
        " print(\"Enter 'Y' to continue or 'N' to quit\")\n",
        " cont=input()\n",
        " if cont.upper()=='N':\n",
        "    break"
      ]
    },
    {
      "cell_type": "code",
      "source": [
        "#Exercise 2: Product of Random Numbers\n",
        "\n",
        "import random\n",
        "a=random.randint(0,100)\n",
        "print(a)\n",
        "b=random.randint(0,100)\n",
        "print(b)\n",
        "c=int(input(\"Please provide product of the generated two numbers: \"))\n",
        "inputproduct_num=c\n",
        "Generatedproduct_num=a*b\n",
        "if Generatedproduct_num==inputproduct_num:\n",
        "   print(\"Congratulations!,Your answer is correct\")\n",
        "else:\n",
        "   print(\"Your answer is wrong\")"
      ],
      "metadata": {
        "colab": {
          "base_uri": "https://localhost:8080/"
        },
        "id": "DHCoXOFIV6m9",
        "outputId": "157cfa53-7177-406b-fe4d-03e899fabc94"
      },
      "execution_count": 2,
      "outputs": [
        {
          "output_type": "stream",
          "name": "stdout",
          "text": [
            "69\n",
            "25\n",
            "Please provide product of the generated two numbers: 1496\n",
            "Your answer is wrong\n"
          ]
        }
      ]
    },
    {
      "cell_type": "code",
      "source": [
        "#Exercise 3: Squares of Even/Odd Numbers\n",
        "\n",
        "even=[]\n",
        "odd=[]\n",
        "for i in range(100,201):\n",
        " if i%2==0:\n",
        "    even.append(i**2)\n",
        " else:\n",
        "    odd.append(i**2)\n",
        "s=input(\"Do you want squares of even or odd between 100 and 200?\" )\n",
        "print(even if s=='even' else odd)"
      ],
      "metadata": {
        "colab": {
          "base_uri": "https://localhost:8080/"
        },
        "id": "lefhabx4WH4c",
        "outputId": "8504bc42-b5ce-4167-d126-c3c0f8c5c403"
      },
      "execution_count": 3,
      "outputs": [
        {
          "output_type": "stream",
          "name": "stdout",
          "text": [
            "Do you want squares of even or odd between 100 and 200?EVEN\n",
            "[10201, 10609, 11025, 11449, 11881, 12321, 12769, 13225, 13689, 14161, 14641, 15129, 15625, 16129, 16641, 17161, 17689, 18225, 18769, 19321, 19881, 20449, 21025, 21609, 22201, 22801, 23409, 24025, 24649, 25281, 25921, 26569, 27225, 27889, 28561, 29241, 29929, 30625, 31329, 32041, 32761, 33489, 34225, 34969, 35721, 36481, 37249, 38025, 38809, 39601]\n"
          ]
        }
      ]
    },
    {
      "cell_type": "code",
      "source": [
        "#Exercise 4: Word counter\n",
        "\n",
        "import re\n",
        "p=\"This is a sample text. This text will be used to demonstrate the word counter.\"\n",
        "t = re.sub(r'[^\\w\\s]','', p)\n",
        "print(t)\n",
        "h=t.split(\" \")\n",
        "words=list(h)\n",
        "print(words)\n",
        "\n",
        "for i in words:\n",
        "   print(i, \":\", words.count(i))"
      ],
      "metadata": {
        "colab": {
          "base_uri": "https://localhost:8080/"
        },
        "id": "XWlScvOOWONz",
        "outputId": "ddb954e4-0cc9-4242-b326-9f5a23737105"
      },
      "execution_count": 4,
      "outputs": [
        {
          "output_type": "stream",
          "name": "stdout",
          "text": [
            "This is a sample text This text will be used to demonstrate the word counter\n",
            "['This', 'is', 'a', 'sample', 'text', 'This', 'text', 'will', 'be', 'used', 'to', 'demonstrate', 'the', 'word', 'counter']\n",
            "This : 2\n",
            "is : 1\n",
            "a : 1\n",
            "sample : 1\n",
            "text : 2\n",
            "This : 2\n",
            "text : 2\n",
            "will : 1\n",
            "be : 1\n",
            "used : 1\n",
            "to : 1\n",
            "demonstrate : 1\n",
            "the : 1\n",
            "word : 1\n",
            "counter : 1\n"
          ]
        }
      ]
    },
    {
      "cell_type": "code",
      "source": [
        "#Exercise 5: Check for Palindrome\n",
        "\n",
        "s=input('enter any word ')\n",
        "print(s)\n",
        "if s[::1]==s[::-1]:\n",
        "  print(\"True\")\n",
        "else:\n",
        "  print(\"False\")"
      ],
      "metadata": {
        "colab": {
          "base_uri": "https://localhost:8080/"
        },
        "id": "9J1b4B33WWhP",
        "outputId": "7f47413d-c889-4c19-dbd0-bb03a1fffb6c"
      },
      "execution_count": 5,
      "outputs": [
        {
          "output_type": "stream",
          "name": "stdout",
          "text": [
            "enter any word RACECAR\n",
            "RACECAR\n",
            "True\n"
          ]
        }
      ]
    },
    {
      "cell_type": "code",
      "source": [],
      "metadata": {
        "id": "RFL_CeTfWbp4"
      },
      "execution_count": null,
      "outputs": []
    }
  ]
}